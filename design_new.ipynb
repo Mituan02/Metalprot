{
 "cells": [
  {
   "cell_type": "code",
   "execution_count": null,
   "id": "cd3c4532",
   "metadata": {},
   "outputs": [],
   "source": [
    "import numpy as np\n",
    "import sys\n",
    "from metalprot.search import search_selfcenter\n",
    "from metalprot.basic import filter\n",
    "import pickle\n",
    "import time\n",
    "import prody as pr\n",
    "import os"
   ]
  },
  {
   "cell_type": "code",
   "execution_count": null,
   "id": "9b8a04cd",
   "metadata": {},
   "outputs": [
    {
     "name": "stdout",
     "output_type": "stream",
     "text": [
      "5853\n"
     ]
    }
   ],
   "source": [
    "start_time = time.time()\n",
    "\n",
    "# Load the ZN vdM database\n",
    "query_dir = './Database/ZN_HDEC_20210113/'\n",
    "\n",
    "# metal binding site\n",
    "with open(query_dir + 'all_metal_vdm.pkl', 'rb') as f:\n",
    "    query_all_metal = pickle.load(f)\n",
    "\n",
    "# aa-metal conformations\n",
    "with open(query_dir + 'AAMetalPhiPsi.pkl', 'rb') as f:\n",
    "    all_querys = pickle.load(f)\n",
    "\n",
    "# vdm cluster_center mode\n",
    "with open(query_dir + 'cluster_centroid_dict.pkl', 'rb') as f:\n",
    "    cluster_centroid_dict = pickle.load(f)\n",
    "\n",
    "print(len(all_querys))\n",
    "\n",
    "# Path to 2nd_shell vdM database\n",
    "path_to_database='./Metalprot/Database/vdMs_HDE/vdMs_all/'"
   ]
  },
  {
   "cell_type": "code",
   "execution_count": null,
   "id": "4b78bf61",
   "metadata": {},
   "outputs": [
    {
     "name": "stdout",
     "output_type": "stream",
     "text": [
      "[('A', 2), ('A', 3), ('A', 6), ('A', 7), ('A', 9), ('A', 10), ('A', 13), ('A', 14), ('B', 27), ('B', 28), ('B', 31), ('B', 34), ('B', 35), ('B', 38), ('C', 3), ('C', 6), ('C', 7), ('C', 9), ('C', 10), ('D', 30), ('D', 31), ('D', 34), ('D', 35), ('D', 38)]\n"
     ]
    }
   ],
   "source": [
    "# Search params\n",
    "\n",
    "workdir = './'\n",
    "outdir = './test_output/'\n",
    "# input target protein\n",
    "target_path = './location.pdb'\n",
    "\n",
    "'''\n",
    "# add groups\n",
    "win_filter = []\n",
    "for res in range(12, 28):\n",
    "    win_filter.append(('A',res))\n",
    "\n",
    "for res in range(14, 29):\n",
    "    win_filter.append(('B',res))\n",
    "\n",
    "for res in range(12, 28):\n",
    "    win_filter.append(('C',res))\n",
    "'''\n",
    "\n",
    "win_filter = [('A',2),  ('A',3), ('A',6), ('A',7), ('A',9), ('A',10), ('A',13), ('A',14), \n",
    "              ('B', 27),  ('B', 28),  ('B', 31),  ('B', 34),  ('B', 35),  ('B', 38),  \n",
    "              ('C', 3), ('C', 6), ('C', 7), ('C', 9), ('C', 10), \n",
    "              ('D', 30), ('D', 31), ('D', 34), ('D', 35), ('D', 38)]\n",
    "\n",
    "\n",
    "\n",
    "print(win_filter)\n",
    "\n",
    "# win_filter = []\n",
    "geometry_path = None\n",
    "metal_metal_dist = 0.7\n",
    "num_contact_vdms = [3]\n",
    "allowed_aa_combinations = [['H', 'H', 'H'], ['H', 'H', 'D'], ['H', 'H', 'E']]"
   ]
  },
  {
   "cell_type": "code",
   "execution_count": 5,
   "id": "4c4b6724",
   "metadata": {},
   "outputs": [],
   "source": [
    "_filter = filter.Search_filter(filter_abple = False, filter_phipsi = True, max_phipsi_val = 25, \n",
    "    filter_vdm_score = False, min_vdm_score = 0, filter_vdm_count = False, min_vdm_clu_num = 20,\n",
    "    after_search_filter_geometry = True, filter_based_geometry_structure = False, angle_tol = 15, aa_aa_tol = 0.3, aa_metal_tol = 0.2,\n",
    "    pair_angle_range = [85, 130], pair_aa_aa_dist_range = [2.8, 4], pair_metal_aa_dist_range = None,\n",
    "    after_search_filter_qt_clash = False, vdm_vdm_clash_dist = 2.7, vdm_bb_clash_dist = 2.2, \n",
    "    after_search_open_site_clash = False, open_site_dist = 3.0, \n",
    "    write_filtered_result = False, selfcenter_filter_member_phipsi=True)"
   ]
  },
  {
   "cell_type": "code",
   "execution_count": 6,
   "id": "3786c05a",
   "metadata": {},
   "outputs": [
    {
     "name": "stdout",
     "output_type": "stream",
     "text": [
      "dict_keys([('A', 1), ('A', 2), ('A', 3), ('A', 4), ('A', 5), ('A', 6), ('A', 7), ('A', 8), ('A', 9), ('A', 10), ('A', 11), ('A', 12), ('A', 13), ('A', 14), ('A', 15), ('A', 16), ('A', 17), ('A', 18), ('A', 19), ('A', 20), ('A', 21), ('A', 22), ('A', 23), ('A', 24), ('A', 25), ('A', 26), ('A', 27), ('A', 28), ('A', 29), ('A', 30), ('A', 31), ('A', 32), ('A', 33), ('A', 34), ('A', 35), ('A', 36), ('A', 37), ('A', 38), ('A', 39), ('A', 40), ('B', 1), ('B', 2), ('B', 3), ('B', 4), ('B', 5), ('B', 6), ('B', 7), ('B', 8), ('B', 9), ('B', 10), ('B', 11), ('B', 12), ('B', 13), ('B', 14), ('B', 15), ('B', 16), ('B', 17), ('B', 18), ('B', 19), ('B', 20), ('B', 21), ('B', 22), ('B', 23), ('B', 24), ('B', 25), ('B', 26), ('B', 27), ('B', 28), ('B', 29), ('B', 30), ('B', 31), ('B', 32), ('B', 33), ('B', 34), ('B', 35), ('B', 36), ('B', 37), ('B', 38), ('B', 39), ('B', 40), ('C', 1), ('C', 2), ('C', 3), ('C', 4), ('C', 5), ('C', 6), ('C', 7), ('C', 8), ('C', 9), ('C', 10), ('C', 11), ('C', 12), ('C', 13), ('C', 14), ('C', 15), ('C', 16), ('C', 17), ('C', 18), ('C', 19), ('C', 20), ('C', 21), ('C', 22), ('C', 23), ('C', 24), ('C', 25), ('C', 26), ('C', 27), ('C', 28), ('C', 29), ('C', 30), ('C', 31), ('C', 32), ('C', 33), ('C', 34), ('C', 35), ('C', 36), ('C', 37), ('C', 38), ('C', 39), ('C', 40), ('D', 1), ('D', 2), ('D', 3), ('D', 4), ('D', 5), ('D', 6), ('D', 7), ('D', 8), ('D', 9), ('D', 10), ('D', 11), ('D', 12), ('D', 13), ('D', 14), ('D', 15), ('D', 16), ('D', 17), ('D', 18), ('D', 19), ('D', 20), ('D', 21), ('D', 22), ('D', 23), ('D', 24), ('D', 25), ('D', 26), ('D', 27), ('D', 28), ('D', 29), ('D', 30), ('D', 31), ('D', 32), ('D', 33), ('D', 34), ('D', 35), ('D', 36), ('D', 37), ('D', 38), ('D', 39), ('D', 40)])\n",
      "{'D', 'E', 'H'}\n",
      "{('E', 'H', 'H'), ('H', 'H', 'H'), ('D', 'H', 'H')}\n",
      "{'E': 828, 'D': 895, 'C': 1465, 'H': 2661}\n"
     ]
    }
   ],
   "source": [
    "ss = search_selfcenter.Search_selfcenter(target_path, outdir, all_querys, cluster_centroid_dict, query_all_metal, \n",
    "    num_contact_vdms, metal_metal_dist, win_filtered=win_filter, validateOriginStruct = False, \n",
    "    search_filter= _filter, geometry_path = None, density_radius = 0.6, \n",
    "    search_2ndshell = False, secondshell_vdms = path_to_database, rmsd_2ndshell = 1.2, allowed_aa_combinations = allowed_aa_combinations, output_wincomb_overlap=True)\n",
    "\n",
    "# search_2ndshell = True, secondshell_vdms = path_to_database, rmsd_2ndshell = 1.2"
   ]
  },
  {
   "cell_type": "code",
   "execution_count": 7,
   "id": "ca51dac1",
   "metadata": {},
   "outputs": [
    {
     "name": "stdout",
     "output_type": "stream",
     "text": [
      "neighbor_generate_query_dict\n",
      "[1, 2, 5, 6, 8, 9, 12, 13, 66, 67, 70, 73, 74, 77, 82, 85, 86, 88, 89, 149, 150, 153, 154, 157]\n",
      "generate_mask_labels.\n",
      "filter_adj_matrix by label.\n",
      "filter_adj_matrix_by_mc_min.\n",
      "filter_adj_matrix_by_mc_max.\n",
      "(140472, 140472)\n",
      "adj_matrix_paths: \n",
      "Find 383 possible solutions before aftersearch filter\n",
      "selfcenter-run at: 5,73,77\n",
      "neighbor-extract-query\n",
      "neighbor-calc-geometry\n",
      "selfcenter-calc-density\n",
      "neighbor_calc_comb_score\n",
      "selfcenter-run at: 5,9,73\n",
      "neighbor-extract-query\n",
      "neighbor-calc-geometry\n",
      "selfcenter-calc-density\n",
      "neighbor_calc_comb_score\n",
      "selfcenter-run at: 5,9,77\n",
      "neighbor-extract-query\n",
      "neighbor-calc-geometry\n",
      "selfcenter-calc-density\n",
      "neighbor_calc_comb_score\n",
      "selfcenter-run at: 9,73,77\n",
      "neighbor-extract-query\n",
      "neighbor-calc-geometry\n",
      "selfcenter-calc-density\n",
      "neighbor_calc_comb_score\n",
      "selfcenter-run at: 12,66,70\n",
      "neighbor-extract-query\n",
      "neighbor-calc-geometry\n",
      "selfcenter-calc-density\n",
      "neighbor_calc_comb_score\n",
      "selfcenter-run at: 73,77,85\n",
      "neighbor-extract-query\n",
      "neighbor-calc-geometry\n",
      "selfcenter-calc-density\n",
      "neighbor_calc_comb_score\n",
      "selfcenter-run at: 73,85,89\n",
      "neighbor-extract-query\n",
      "neighbor-calc-geometry\n",
      "selfcenter-calc-density\n",
      "neighbor_calc_comb_score\n",
      "selfcenter-run at: 85,153,157\n",
      "neighbor-extract-query\n",
      "neighbor-calc-geometry\n",
      "selfcenter-calc-density\n",
      "neighbor_calc_comb_score\n",
      "selfcenter-run at: 85,89,153\n",
      "neighbor-extract-query\n",
      "neighbor-calc-geometry\n",
      "selfcenter-calc-density\n",
      "neighbor_calc_comb_score\n",
      "selfcenter-run at: 85,89,157\n",
      "neighbor-extract-query\n",
      "neighbor-calc-geometry\n",
      "selfcenter-calc-density\n",
      "neighbor_calc_comb_score\n",
      "selfcenter-run at: 89,153,157\n",
      "neighbor-extract-query\n",
      "neighbor-calc-geometry\n",
      "selfcenter-calc-density\n",
      "neighbor_calc_comb_score\n",
      "selfcenter-write-represents.\n",
      "selfcenter search neighbor_write\n",
      "selfcenter-write-represents.\n",
      "selfcenter search neighbor_write\n",
      "selfcenter-write-represents.\n",
      "selfcenter search neighbor_write\n",
      "selfcenter-write-represents.\n",
      "selfcenter search neighbor_write\n",
      "selfcenter-write-represents.\n",
      "selfcenter search neighbor_write\n",
      "selfcenter-write-represents.\n",
      "selfcenter search neighbor_write\n",
      "selfcenter-write-represents.\n",
      "selfcenter search neighbor_write\n",
      "selfcenter-write-represents.\n",
      "selfcenter search neighbor_write\n",
      "selfcenter-write-represents.\n",
      "selfcenter search neighbor_write\n",
      "selfcenter-write-represents.\n",
      "selfcenter search neighbor_write\n",
      "selfcenter-write-represents.\n",
      "selfcenter search neighbor_write\n"
     ]
    }
   ],
   "source": [
    "\n",
    "\n",
    "\n",
    "#ss.run_selfcenter_search()\n",
    "search_selfcenter.run_search_selfcenter(ss)"
   ]
  }
 ],
 "metadata": {
  "kernelspec": {
   "display_name": "metal",
   "language": "python",
   "name": "python3"
  },
  "language_info": {
   "codemirror_mode": {
    "name": "ipython",
    "version": 3
   },
   "file_extension": ".py",
   "mimetype": "text/x-python",
   "name": "python",
   "nbconvert_exporter": "python",
   "pygments_lexer": "ipython3",
   "version": "3.9.22"
  }
 },
 "nbformat": 4,
 "nbformat_minor": 5
}
